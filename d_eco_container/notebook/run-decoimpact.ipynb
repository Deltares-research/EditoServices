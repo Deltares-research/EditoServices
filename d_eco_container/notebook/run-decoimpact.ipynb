{
 "cells": [
  {
   "cell_type": "code",
   "execution_count": 2,
   "id": "0dd4edeb-20e0-469f-bf2c-5df5eefe9d09",
   "metadata": {
    "ExecuteTime": {
     "end_time": "2024-02-14T21:18:39.414446600Z",
     "start_time": "2024-02-14T21:18:39.368079500Z"
    }
   },
   "outputs": [
    {
     "ename": "ModuleNotFoundError",
     "evalue": "No module named 'xarray'",
     "output_type": "error",
     "traceback": [
      "\u001B[1;31m---------------------------------------------------------------------------\u001B[0m",
      "\u001B[1;31mModuleNotFoundError\u001B[0m                       Traceback (most recent call last)",
      "Cell \u001B[1;32mIn[2], line 5\u001B[0m\n\u001B[0;32m      2\u001B[0m \u001B[38;5;28;01mimport\u001B[39;00m \u001B[38;5;21;01ms3fs\u001B[39;00m\n\u001B[0;32m      3\u001B[0m \u001B[38;5;28;01mfrom\u001B[39;00m \u001B[38;5;21;01mpathlib\u001B[39;00m \u001B[38;5;28;01mimport\u001B[39;00m Path\n\u001B[1;32m----> 5\u001B[0m \u001B[38;5;28;01mfrom\u001B[39;00m \u001B[38;5;21;01mdecoimpact\u001B[39;00m\u001B[38;5;21;01m.\u001B[39;00m\u001B[38;5;21;01mbusiness\u001B[39;00m\u001B[38;5;21;01m.\u001B[39;00m\u001B[38;5;21;01mapplication\u001B[39;00m \u001B[38;5;28;01mimport\u001B[39;00m Application\n\u001B[0;32m      6\u001B[0m \u001B[38;5;28;01mfrom\u001B[39;00m \u001B[38;5;21;01mdecoimpact\u001B[39;00m\u001B[38;5;21;01m.\u001B[39;00m\u001B[38;5;21;01mbusiness\u001B[39;00m\u001B[38;5;21;01m.\u001B[39;00m\u001B[38;5;21;01mworkflow\u001B[39;00m\u001B[38;5;21;01m.\u001B[39;00m\u001B[38;5;21;01mmodel_builder\u001B[39;00m \u001B[38;5;28;01mimport\u001B[39;00m ModelBuilder\n\u001B[0;32m      7\u001B[0m \u001B[38;5;28;01mfrom\u001B[39;00m \u001B[38;5;21;01mdecoimpact\u001B[39;00m\u001B[38;5;21;01m.\u001B[39;00m\u001B[38;5;21;01mcrosscutting\u001B[39;00m\u001B[38;5;21;01m.\u001B[39;00m\u001B[38;5;21;01mi_logger\u001B[39;00m \u001B[38;5;28;01mimport\u001B[39;00m ILogger\n",
      "File \u001B[1;32mC:\\MyComputer\\algorithms\\D-EcoImpact\\decoimpact\\business\\application.py:17\u001B[0m\n\u001B[0;32m      7\u001B[0m \u001B[38;5;124;03m\"\"\"\u001B[39;00m\n\u001B[0;32m      8\u001B[0m \u001B[38;5;124;03mModule for Application class\u001B[39;00m\n\u001B[0;32m      9\u001B[0m \n\u001B[1;32m   (...)\u001B[0m\n\u001B[0;32m     12\u001B[0m \n\u001B[0;32m     13\u001B[0m \u001B[38;5;124;03m\"\"\"\u001B[39;00m\n\u001B[0;32m     15\u001B[0m \u001B[38;5;28;01mfrom\u001B[39;00m \u001B[38;5;21;01mpathlib\u001B[39;00m \u001B[38;5;28;01mimport\u001B[39;00m Path\n\u001B[1;32m---> 17\u001B[0m \u001B[38;5;28;01mfrom\u001B[39;00m \u001B[38;5;21;01mdecoimpact\u001B[39;00m\u001B[38;5;21;01m.\u001B[39;00m\u001B[38;5;21;01mbusiness\u001B[39;00m\u001B[38;5;21;01m.\u001B[39;00m\u001B[38;5;21;01mentities\u001B[39;00m\u001B[38;5;21;01m.\u001B[39;00m\u001B[38;5;21;01mi_model\u001B[39;00m \u001B[38;5;28;01mimport\u001B[39;00m ModelStatus \u001B[38;5;28;01mas\u001B[39;00m _ModelStatus\n\u001B[0;32m     18\u001B[0m \u001B[38;5;28;01mfrom\u001B[39;00m \u001B[38;5;21;01mdecoimpact\u001B[39;00m\u001B[38;5;21;01m.\u001B[39;00m\u001B[38;5;21;01mbusiness\u001B[39;00m\u001B[38;5;21;01m.\u001B[39;00m\u001B[38;5;21;01mutils\u001B[39;00m\u001B[38;5;21;01m.\u001B[39;00m\u001B[38;5;21;01mversion_utils\u001B[39;00m \u001B[38;5;28;01mimport\u001B[39;00m read_version_number\n\u001B[0;32m     19\u001B[0m \u001B[38;5;28;01mfrom\u001B[39;00m \u001B[38;5;21;01mdecoimpact\u001B[39;00m\u001B[38;5;21;01m.\u001B[39;00m\u001B[38;5;21;01mbusiness\u001B[39;00m\u001B[38;5;21;01m.\u001B[39;00m\u001B[38;5;21;01mworkflow\u001B[39;00m\u001B[38;5;21;01m.\u001B[39;00m\u001B[38;5;21;01mi_model_builder\u001B[39;00m \u001B[38;5;28;01mimport\u001B[39;00m IModelBuilder\n",
      "File \u001B[1;32mC:\\MyComputer\\algorithms\\D-EcoImpact\\decoimpact\\business\\entities\\i_model.py:22\u001B[0m\n\u001B[0;32m     19\u001B[0m \u001B[38;5;28;01mfrom\u001B[39;00m \u001B[38;5;21;01menum\u001B[39;00m \u001B[38;5;28;01mimport\u001B[39;00m Enum, auto\n\u001B[0;32m     20\u001B[0m \u001B[38;5;28;01mfrom\u001B[39;00m \u001B[38;5;21;01mtyping\u001B[39;00m \u001B[38;5;28;01mimport\u001B[39;00m List\n\u001B[1;32m---> 22\u001B[0m \u001B[38;5;28;01mimport\u001B[39;00m \u001B[38;5;21;01mxarray\u001B[39;00m \u001B[38;5;28;01mas\u001B[39;00m \u001B[38;5;21;01m_xr\u001B[39;00m\n\u001B[0;32m     24\u001B[0m \u001B[38;5;28;01mfrom\u001B[39;00m \u001B[38;5;21;01mdecoimpact\u001B[39;00m\u001B[38;5;21;01m.\u001B[39;00m\u001B[38;5;21;01mcrosscutting\u001B[39;00m\u001B[38;5;21;01m.\u001B[39;00m\u001B[38;5;21;01mi_logger\u001B[39;00m \u001B[38;5;28;01mimport\u001B[39;00m ILogger\n\u001B[0;32m     27\u001B[0m \u001B[38;5;28;01mclass\u001B[39;00m \u001B[38;5;21;01mModelStatus\u001B[39;00m(Enum):\n",
      "\u001B[1;31mModuleNotFoundError\u001B[0m: No module named 'xarray'"
     ]
    }
   ],
   "source": [
    "import os\n",
    "import s3fs\n",
    "from pathlib import Path\n",
    "\n",
    "from decoimpact.business.application import Application\n",
    "from decoimpact.business.workflow.model_builder import ModelBuilder\n",
    "from decoimpact.crosscutting.i_logger import ILogger\n",
    "from decoimpact.crosscutting.logger_factory import LoggerFactory\n",
    "from decoimpact.data.entities.data_access_layer import DataAccessLayer, IDataAccessLayer"
   ]
  },
  {
   "cell_type": "code",
   "execution_count": 9,
   "id": "c2919cf8-9688-4ed6-b65a-3aec399d378a",
   "metadata": {},
   "outputs": [],
   "source": [
    "# Create an file-system object for the s3 bucket\n",
    "onxia_user_name = os.environ[\"GIT_USER_NAME\"]\n",
    "bucket_name = f\"oidc-{onxia_user_name}\"\n",
    "S3_ENDPOINT_URL = os.environ[\"S3_ENDPOINT\"]\n",
    "fs = s3fs.S3FileSystem(client_kwargs={'endpoint_url': S3_ENDPOINT_URL})\n",
    "\n",
    "yaml_file = \"input_file.yaml\"\n",
    "yaml_file_path = Path(yaml_file)"
   ]
  },
  {
   "cell_type": "code",
   "execution_count": 10,
   "id": "05a92ded-b133-4902-9cd8-278f82e6fe33",
   "metadata": {},
   "outputs": [],
   "source": [
    "# download the yaml file\n",
    "fs.download(f\"{bucket_name}/{yaml_file}\", yaml_file)"
   ]
  },
  {
   "cell_type": "code",
   "execution_count": 19,
   "id": "e70d3751-621c-425c-a0ca-ea69e5c867fb",
   "metadata": {},
   "outputs": [],
   "source": [
    "# configure logger and data-access layer for d-ecoimpact\n",
    "logger: ILogger = LoggerFactory.create_logger()\n",
    "da_layer: IDataAccessLayer = DataAccessLayer(logger)\n",
    "model_builder = ModelBuilder(da_layer, logger)"
   ]
  },
  {
   "cell_type": "code",
   "execution_count": 20,
   "id": "885f93b0-76c9-4147-bc1c-41ada8328127",
   "metadata": {},
   "outputs": [
    {
     "name": "stderr",
     "output_type": "stream",
     "text": [
      "2024-01-12 11:51:47,999: INFO     Creating model data based on yaml file input_file.yaml\n",
      "2024-01-12 11:51:47,999: INFO     Creating model data based on yaml file input_file.yaml\n",
      "2024-01-12 11:51:47,999: INFO     Creating model data based on yaml file input_file.yaml\n",
      "2024-01-12 11:51:47,999: INFO     Creating model data based on yaml file input_file.yaml\n"
     ]
    }
   ],
   "source": [
    "# read the input (nc) and output (nc) path from the yaml input file\n",
    "model_data = da_layer.read_input_file(yaml_file_path)\n",
    "nc_file = str(model_data.datasets[0].path.relative_to(os.getcwd()))\n",
    "output_file_path = str(model_data.output_path)"
   ]
  },
  {
   "cell_type": "code",
   "execution_count": 21,
   "id": "964e0be4-6ede-4d0a-ab4e-31fc3066286a",
   "metadata": {},
   "outputs": [
    {
     "name": "stdout",
     "output_type": "stream",
     "text": [
      "oidc-lmeszaros/DFM_OUTPUT_Vietnam/Vietnam_map.nc\n"
     ]
    }
   ],
   "source": [
    "# download input netCDF (UGrid) file\n",
    "directory = \"DFM_OUTPUT_Vietnam\"\n",
    "fs.download(f\"{bucket_name}/{directory}/{nc_file}\", nc_file)\n",
    "print(f\"{bucket_name}/{directory}/{nc_file}\")"
   ]
  },
  {
   "cell_type": "code",
   "execution_count": 22,
   "id": "141c150b-ac51-4ede-800b-3c7162da6314",
   "metadata": {},
   "outputs": [
    {
     "name": "stderr",
     "output_type": "stream",
     "text": [
      "2024-01-12 11:51:54,989: INFO     Application version: 0.1.11\n",
      "2024-01-12 11:51:54,989: INFO     Application version: 0.1.11\n",
      "2024-01-12 11:51:54,989: INFO     Application version: 0.1.11\n",
      "2024-01-12 11:51:54,989: INFO     Application version: 0.1.11\n",
      "2024-01-12 11:51:54,993: INFO     Creating model data based on yaml file input_file.yaml\n",
      "2024-01-12 11:51:54,993: INFO     Creating model data based on yaml file input_file.yaml\n",
      "2024-01-12 11:51:54,993: INFO     Creating model data based on yaml file input_file.yaml\n",
      "2024-01-12 11:51:54,993: INFO     Creating model data based on yaml file input_file.yaml\n",
      "2024-01-12 11:51:54,999: INFO     Input file version: 0.0.0\n",
      "2024-01-12 11:51:54,999: INFO     Input file version: 0.0.0\n",
      "2024-01-12 11:51:54,999: INFO     Input file version: 0.0.0\n",
      "2024-01-12 11:51:54,999: INFO     Input file version: 0.0.0\n",
      "2024-01-12 11:51:55,002: INFO     Creating rule-based model\n",
      "2024-01-12 11:51:55,002: INFO     Creating rule-based model\n",
      "2024-01-12 11:51:55,002: INFO     Creating rule-based model\n",
      "2024-01-12 11:51:55,002: INFO     Creating rule-based model\n",
      "2024-01-12 11:51:55,027: INFO     Model \"Model 1\" -> ModelStatus.VALIDATING\n",
      "2024-01-12 11:51:55,027: INFO     Model \"Model 1\" -> ModelStatus.VALIDATING\n",
      "2024-01-12 11:51:55,027: INFO     Model \"Model 1\" -> ModelStatus.VALIDATING\n",
      "2024-01-12 11:51:55,027: INFO     Model \"Model 1\" -> ModelStatus.VALIDATING\n",
      "2024-01-12 11:51:55,029: INFO     Model \"Model 1\" -> ModelStatus.VALIDATED\n",
      "2024-01-12 11:51:55,029: INFO     Model \"Model 1\" -> ModelStatus.VALIDATED\n",
      "2024-01-12 11:51:55,029: INFO     Model \"Model 1\" -> ModelStatus.VALIDATED\n",
      "2024-01-12 11:51:55,029: INFO     Model \"Model 1\" -> ModelStatus.VALIDATED\n",
      "2024-01-12 11:51:55,031: INFO     Model \"Model 1\" -> ModelStatus.INITIALIZING\n",
      "2024-01-12 11:51:55,031: INFO     Model \"Model 1\" -> ModelStatus.INITIALIZING\n",
      "2024-01-12 11:51:55,031: INFO     Model \"Model 1\" -> ModelStatus.INITIALIZING\n",
      "2024-01-12 11:51:55,031: INFO     Model \"Model 1\" -> ModelStatus.INITIALIZING\n",
      "2024-01-12 11:51:55,038: INFO     Model \"Model 1\" -> ModelStatus.INITIALIZED\n",
      "2024-01-12 11:51:55,038: INFO     Model \"Model 1\" -> ModelStatus.INITIALIZED\n",
      "2024-01-12 11:51:55,038: INFO     Model \"Model 1\" -> ModelStatus.INITIALIZED\n",
      "2024-01-12 11:51:55,038: INFO     Model \"Model 1\" -> ModelStatus.INITIALIZED\n",
      "2024-01-12 11:51:55,041: INFO     Model \"Model 1\" -> ModelStatus.EXECUTING\n",
      "2024-01-12 11:51:55,041: INFO     Model \"Model 1\" -> ModelStatus.EXECUTING\n",
      "2024-01-12 11:51:55,041: INFO     Model \"Model 1\" -> ModelStatus.EXECUTING\n",
      "2024-01-12 11:51:55,041: INFO     Model \"Model 1\" -> ModelStatus.EXECUTING\n",
      "2024-01-12 11:51:55,043: INFO     Starting rule test name\n",
      "2024-01-12 11:51:55,043: INFO     Starting rule test name\n",
      "2024-01-12 11:51:55,043: INFO     Starting rule test name\n",
      "2024-01-12 11:51:55,043: INFO     Starting rule test name\n",
      "2024-01-12 11:51:55,077: INFO     Model \"Model 1\" -> ModelStatus.EXECUTED\n",
      "2024-01-12 11:51:55,077: INFO     Model \"Model 1\" -> ModelStatus.EXECUTED\n",
      "2024-01-12 11:51:55,077: INFO     Model \"Model 1\" -> ModelStatus.EXECUTED\n",
      "2024-01-12 11:51:55,077: INFO     Model \"Model 1\" -> ModelStatus.EXECUTED\n",
      "2024-01-12 11:51:55,081: INFO     Model \"Model 1\" -> ModelStatus.FINALIZING\n",
      "2024-01-12 11:51:55,081: INFO     Model \"Model 1\" -> ModelStatus.FINALIZING\n",
      "2024-01-12 11:51:55,081: INFO     Model \"Model 1\" -> ModelStatus.FINALIZING\n",
      "2024-01-12 11:51:55,081: INFO     Model \"Model 1\" -> ModelStatus.FINALIZING\n",
      "2024-01-12 11:51:55,084: INFO     Model \"Model 1\" -> ModelStatus.FINALIZED\n",
      "2024-01-12 11:51:55,084: INFO     Model \"Model 1\" -> ModelStatus.FINALIZED\n",
      "2024-01-12 11:51:55,084: INFO     Model \"Model 1\" -> ModelStatus.FINALIZED\n",
      "2024-01-12 11:51:55,084: INFO     Model \"Model 1\" -> ModelStatus.FINALIZED\n",
      "2024-01-12 11:51:55,089: INFO     Model \"Model 1\" has successfully finished running\n",
      "2024-01-12 11:51:55,089: INFO     Model \"Model 1\" has successfully finished running\n",
      "2024-01-12 11:51:55,089: INFO     Model \"Model 1\" has successfully finished running\n",
      "2024-01-12 11:51:55,089: INFO     Model \"Model 1\" has successfully finished running\n",
      "2024-01-12 11:51:55,092: INFO     Writing model output data to results.nc\n",
      "2024-01-12 11:51:55,092: INFO     Writing model output data to results.nc\n",
      "2024-01-12 11:51:55,092: INFO     Writing model output data to results.nc\n",
      "2024-01-12 11:51:55,092: INFO     Writing model output data to results.nc\n"
     ]
    }
   ],
   "source": [
    "# create and run d-ecoimpact application\n",
    "application = Application(logger, da_layer, model_builder)\n",
    "application.run(yaml_file_path)"
   ]
  },
  {
   "cell_type": "code",
   "execution_count": 24,
   "id": "e043370d-d684-4042-b8b0-3527c167a63b",
   "metadata": {},
   "outputs": [],
   "source": [
    "# upload the output file to s3\n",
    "outdir = \"D-EcoImpact_OUTPUT\"\n",
    "fs.upload(output_file_path, f\"{bucket_name}/{outdir}/{output_file_path}\")"
   ]
  },
  {
   "cell_type": "code",
   "execution_count": null,
   "id": "6ded1454-b316-4261-b444-63d36480ef9a",
   "metadata": {},
   "outputs": [],
   "source": []
  }
 ],
 "metadata": {
  "kernelspec": {
   "display_name": "Python 3 (ipykernel)",
   "language": "python",
   "name": "python3"
  },
  "language_info": {
   "codemirror_mode": {
    "name": "ipython",
    "version": 3
   },
   "file_extension": ".py",
   "mimetype": "text/x-python",
   "name": "python",
   "nbconvert_exporter": "python",
   "pygments_lexer": "ipython3",
   "version": "3.10.13"
  }
 },
 "nbformat": 4,
 "nbformat_minor": 5
}
