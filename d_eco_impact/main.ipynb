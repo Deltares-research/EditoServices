{
 "cells": [
  {
   "cell_type": "code",
   "execution_count": 1,
   "id": "0dd4edeb-20e0-469f-bf2c-5df5eefe9d09",
   "metadata": {},
   "outputs": [],
   "source": [
    "import os\n",
    "import s3fs\n",
    "from pathlib import Path\n",
    "\n",
    "from decoimpact.business.application import Application\n",
    "from decoimpact.business.workflow.model_builder import ModelBuilder\n",
    "from decoimpact.crosscutting.i_logger import ILogger\n",
    "from decoimpact.crosscutting.logger_factory import LoggerFactory\n",
    "from decoimpact.data.entities.data_access_layer import DataAccessLayer, IDataAccessLayer"
   ]
  },
  {
   "cell_type": "code",
   "execution_count": 2,
   "id": "c2919cf8-9688-4ed6-b65a-3aec399d378a",
   "metadata": {},
   "outputs": [],
   "source": [
    "# Create an file-system object for the s3 bucket\n",
    "onxia_user_name = os.environ[\"GIT_USER_NAME\"]\n",
    "bucket_name = f\"oidc-{onxia_user_name}\"\n",
    "S3_ENDPOINT_URL = os.environ[\"S3_ENDPOINT\"]\n",
    "fs = s3fs.S3FileSystem(client_kwargs={'endpoint_url': S3_ENDPOINT_URL})\n",
    "\n",
    "yaml_file = \"input_file.yaml\"\n",
    "yaml_file_path = Path(yaml_file)"
   ]
  },
  {
   "cell_type": "code",
   "execution_count": 3,
   "id": "05a92ded-b133-4902-9cd8-278f82e6fe33",
   "metadata": {},
   "outputs": [],
   "source": [
    "# download the yaml file\n",
    "fs.download(f\"{bucket_name}/{yaml_file}\", yaml_file)"
   ]
  },
  {
   "cell_type": "code",
   "execution_count": 4,
   "id": "e70d3751-621c-425c-a0ca-ea69e5c867fb",
   "metadata": {},
   "outputs": [],
   "source": [
    "# configure logger and data-access layer for d-ecoimpact\n",
    "logger: ILogger = LoggerFactory.create_logger()\n",
    "da_layer: IDataAccessLayer = DataAccessLayer(logger)\n",
    "model_builder = ModelBuilder(da_layer, logger)"
   ]
  },
  {
   "cell_type": "code",
   "execution_count": 5,
   "id": "885f93b0-76c9-4147-bc1c-41ada8328127",
   "metadata": {},
   "outputs": [
    {
     "name": "stderr",
     "output_type": "stream",
     "text": [
      "2024-01-10 16:34:56,625: INFO     Creating model data based on yaml file input_file.yaml\n"
     ]
    }
   ],
   "source": [
    "# read the input (nc) and output (nc) path from the yaml input file\n",
    "model_data = da_layer.read_input_file(yaml_file_path)\n",
    "nc_file = str(model_data.datasets[0].path.relative_to(os.getcwd()))\n",
    "output_file_path = str(model_data.output_path)"
   ]
  },
  {
   "cell_type": "code",
   "execution_count": 6,
   "id": "964e0be4-6ede-4d0a-ab4e-31fc3066286a",
   "metadata": {},
   "outputs": [],
   "source": [
    "# download input netCDF (UGrid) file\n",
    "fs.download(f\"{bucket_name}/{nc_file}\", nc_file)"
   ]
  },
  {
   "cell_type": "code",
   "execution_count": 7,
   "id": "141c150b-ac51-4ede-800b-3c7162da6314",
   "metadata": {},
   "outputs": [
    {
     "name": "stderr",
     "output_type": "stream",
     "text": [
      "2024-01-10 16:35:40,126: INFO     Application version: 0.1.11\n",
      "2024-01-10 16:35:40,127: INFO     Creating model data based on yaml file input_file.yaml\n",
      "2024-01-10 16:35:40,129: INFO     Input file version: 0.0.0\n",
      "2024-01-10 16:35:40,130: INFO     Creating rule-based model\n",
      "2024-01-10 16:35:40,154: INFO     Model \"Model 1\" -> ModelStatus.VALIDATING\n",
      "2024-01-10 16:35:40,155: INFO     Model \"Model 1\" -> ModelStatus.VALIDATED\n",
      "2024-01-10 16:35:40,155: INFO     Model \"Model 1\" -> ModelStatus.INITIALIZING\n",
      "2024-01-10 16:35:40,157: INFO     Model \"Model 1\" -> ModelStatus.INITIALIZED\n",
      "2024-01-10 16:35:40,157: INFO     Model \"Model 1\" -> ModelStatus.EXECUTING\n",
      "2024-01-10 16:35:40,157: INFO     Starting rule test name\n",
      "2024-01-10 16:35:40,163: INFO     Model \"Model 1\" -> ModelStatus.EXECUTED\n",
      "2024-01-10 16:35:40,163: INFO     Model \"Model 1\" -> ModelStatus.FINALIZING\n",
      "2024-01-10 16:35:40,163: INFO     Model \"Model 1\" -> ModelStatus.FINALIZED\n",
      "2024-01-10 16:35:40,164: INFO     Model \"Model 1\" has successfully finished running\n",
      "2024-01-10 16:35:40,164: INFO     Writing model output data to results.nc\n"
     ]
    }
   ],
   "source": [
    "# create and run d-ecoimpact application\n",
    "application = Application(logger, da_layer, model_builder)\n",
    "application.run(yaml_file_path)"
   ]
  },
  {
   "cell_type": "code",
   "execution_count": 8,
   "id": "e043370d-d684-4042-b8b0-3527c167a63b",
   "metadata": {},
   "outputs": [],
   "source": [
    "# upload the output file to s3\n",
    "fs.upload(output_file_path, f\"{bucket_name}/{output_file_path}\")"
   ]
  },
  {
   "cell_type": "code",
   "execution_count": null,
   "id": "6ded1454-b316-4261-b444-63d36480ef9a",
   "metadata": {},
   "outputs": [],
   "source": []
  }
 ],
 "metadata": {
  "kernelspec": {
   "display_name": "Python 3 (ipykernel)",
   "language": "python",
   "name": "python3"
  },
  "language_info": {
   "codemirror_mode": {
    "name": "ipython",
    "version": 3
   },
   "file_extension": ".py",
   "mimetype": "text/x-python",
   "name": "python",
   "nbconvert_exporter": "python",
   "pygments_lexer": "ipython3",
   "version": "3.10.13"
  }
 },
 "nbformat": 4,
 "nbformat_minor": 5
}
