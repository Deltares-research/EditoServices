{
 "cells": [
  {
   "cell_type": "markdown",
   "id": "ab7f4383-23c0-448f-b884-b99067db4d55",
   "metadata": {},
   "source": [
    "# Post-processing example"
   ]
  },
  {
   "cell_type": "code",
   "execution_count": null,
   "id": "6609ed21",
   "metadata": {},
   "outputs": [],
   "source": [
    "#for more advanced hisfile operations: https://github.com/Deltares/dfm_tools/blob/main/tests/examples/postprocess_hisnc.py\n",
    "#for more advanced mapfile operations: https://github.com/Deltares/dfm_tools/blob/main/tests/examples/postprocess_mapnc_ugrid.py\n",
    "# -*- coding: utf-8 -*-\n",
    "\"\"\"\n",
    "author: Lorinc Meszaros, Deltares, Edito Model Lab\n",
    "\"\"\"\n",
    "\n",
    "#Import packages\n",
    "import os\n",
    "import s3fs\n",
    "import matplotlib.pyplot as plt\n",
    "import contextily as ctx\n",
    "import numpy as np\n",
    "import dfm_tools as dfmt\n",
    "from matplotlib.colors import ListedColormap\n",
    "import geopandas as gpd\n"
   ]
  },
  {
   "cell_type": "code",
   "execution_count": null,
   "id": "ee442b17",
   "metadata": {},
   "outputs": [],
   "source": [
    "##USER DEFINED\n",
    "# Input\n",
    "nc_file =   'd_eco_impact_output.nc' #give the filename of the spatial data you want to plot (in case of partitions, use a '*' instead of the partition number to read all partitions at once)\n",
    "directory = ''  #define if input data is saved in subfolder of s3 bucket\n",
    "\n",
    "# Output location for plots\n",
    "out= 'HSI_plots'\n",
    "\n",
    "# Load validation data \n",
    "# example for the Zostera Noltei in the Wadden Sea is loaded automatically, otherwise upload your validation data.\n",
    "shapefile_path = r'validation-data/zostera_noltei_2017Polygon_WGS84.shp' \n",
    "\n",
    "# Settings for mapfile\n",
    "crs = \"EPSG:4326\"\n",
    "layer=0 #as we consider 2D data "
   ]
  },
  {
   "cell_type": "code",
   "execution_count": null,
   "id": "af531b7b",
   "metadata": {},
   "outputs": [],
   "source": [
    "#Output directory\n",
    "if not os.path.isdir(out):\n",
    "   os.makedirs(out)\n",
    "\n",
    "##Input\n",
    "onxia_user_name = os.environ[\"GIT_USER_NAME\"]\n",
    "bucket_name = f\"oidc-{onxia_user_name}\"\n",
    "S3_ENDPOINT_URL = os.environ[\"S3_ENDPOINT\"]\n",
    "fs = s3fs.S3FileSystem(client_kwargs={'endpoint_url': S3_ENDPOINT_URL})\n",
    "\n",
    "# Download the nc-file\n",
    "fs.download(f\"{bucket_name}/{directory}/{nc_file}\", nc_file)\n",
    "print(f\"{bucket_name}/{directory}/{nc_file}\")\n",
    "\n",
    "#Open map file\n",
    "print('processing %s'%(os.path.basename(nc_file)))\n",
    "uds_map = dfmt.open_partitioned_dataset(nc_file)\n",
    "vars_pd = dfmt.get_ncvarproperties(uds_map)\n",
    "\n",
    "#plot net/grid. use random variable and plot line to get grid\n",
    "fig, ax = plt.subplots(figsize=(10,4))\n",
    "pc = uds_map.grid.plot(edgecolor='crimson', linewidth=0.5)\n",
    "if crs is None:\n",
    "    ax.set_aspect('equal')\n",
    "else:\n",
    "    ctx.add_basemap(ax=ax, source=ctx.providers.Esri.WorldImagery, crs=crs, attribution=False)\n",
    "\n",
    "# Create a custom colormap\n",
    "cmap = plt.cm.Reds\n",
    "cmap_with_transparency = cmap(np.arange(cmap.N))\n",
    "cmap_with_transparency[0, -1] = 0  # Make the first color (corresponding to 0) fully transparent\n",
    "\n",
    "# Create a new colormap from the modified array\n",
    "transparent_cmap = ListedColormap(cmap_with_transparency)\n"
   ]
  },
  {
   "cell_type": "code",
   "execution_count": null,
   "id": "211fa73a",
   "metadata": {},
   "outputs": [],
   "source": [
    "##Print available variables for manual check\n",
    "uds_map"
   ]
  },
  {
   "cell_type": "code",
   "execution_count": null,
   "id": "dc5d2a24",
   "metadata": {},
   "outputs": [],
   "source": [
    "# Plot variable- and HSI-maps in loop (choose from variable printed in previous blocks)\n",
    "\n",
    "for variable in [\n",
    "        'Temperature_2D_avg','HSI_Temperature',    \n",
    "        'Salinity_2D_avg','HSI_Salinity',\n",
    "        'Flow_Velocity_2D_max', 'HSI_Flow_Velocity',\n",
    "        'Inundation_Time', 'HSI_Inundation_Time',\n",
    "        'Total_HSI_MIN_month'\n",
    " ]:\n",
    "    try:\n",
    "        uds_map[variable]\n",
    "        fig, ax = plt.subplots(figsize=(5,3))\n",
    "        if vars_pd.loc[variable, 'shape'][0]>11:\n",
    "            pc=uds_map[variable].isel(mesh2d_nLayers=layer,nmesh2d_layer=layer,missing_dims='ignore').mean(dim=\"time\").ugrid.plot(cmap=transparent_cmap)\n",
    "        else:\n",
    "            pc=uds_map[variable].\n",
    "\n",
    "        if crs is None:\n",
    "            ax.set_aspect('equal')\n",
    "        else:\n",
    "            ctx.add_basemap(ax=ax, source=ctx.providers.Esri.WorldImagery, crs=crs, attribution=False)\n",
    "        if variable == 'Total_HSI_MIN_month':\n",
    "            ax.set_title(f\"Simulated Habitat Suitability for ealgrass in the Dutch Wadden Sea in {np.unique(uds_map.time.dt.year)}\", fontsize=12)\n",
    "        plt.savefig(out + '/' + variable + '.png', bbox_inches='tight')\n",
    "        print(variable)\n",
    "    except:\n",
    "        print(f'Variable {variable} is not available.')"
   ]
  },
  {
   "cell_type": "code",
   "execution_count": null,
   "id": "310593d4",
   "metadata": {},
   "outputs": [],
   "source": [
    "## Plot validation data\n",
    "gdf = gpd.read_file(shapefile_path)\n",
    "gdf_filtered = gdf[gdf['bedzostot'] > 0] # Filter non-zeroe values (specific to example validation dataset)\n",
    "\n",
    "fig, ax = plt.subplots(figsize=(10,4))\n",
    "plt.xlim(uds_map['mesh2d_face_x'].min(), uds_map['mesh2d_face_x'].max())\n",
    "plt.ylim(uds_map['mesh2d_face_y'].min(), uds_map['mesh2d_face_y'].max())\n",
    "gdf_filtered.plot(ax=ax, column='bedzostot', color='Red', edgecolor='Red')\n",
    "if crs is None:\n",
    "    ax.set_aspect('equal')\n",
    "else:\n",
    "    ctx.add_basemap(ax=ax, source=ctx.providers.Esri.WorldImagery, crs=crs, attribution=False)\n",
    "plt.title(f\"Observed seagreass (Zostera Noltii and littoral Zostera Marina) in {np.unique(uds_map.time.dt.year)}\", fontsize=12) \n",
    "plt.savefig(out + '/validation.png', bbox_inches='tight')"
   ]
  }
 ],
 "metadata": {
  "kernelspec": {
   "display_name": "Python 3 (ipykernel)",
   "language": "python",
   "name": "python3"
  },
  "language_info": {
   "codemirror_mode": {
    "name": "ipython",
    "version": 3
   },
   "file_extension": ".py",
   "mimetype": "text/x-python",
   "name": "python",
   "nbconvert_exporter": "python",
   "pygments_lexer": "ipython3",
   "version": "3.11.6"
  }
 },
 "nbformat": 4,
 "nbformat_minor": 5
}
