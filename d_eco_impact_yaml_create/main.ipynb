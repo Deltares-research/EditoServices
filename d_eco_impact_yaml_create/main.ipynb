{
 "cells": [
  {
   "cell_type": "code",
   "execution_count": 4,
   "id": "d5a3c1ac-f1cd-4ce8-8c03-8664f082eb20",
   "metadata": {},
   "outputs": [],
   "source": [
    "#import\n",
    "import os\n",
    "import s3fs\n",
    "from pathlib import Path"
   ]
  },
  {
   "cell_type": "code",
   "execution_count": 5,
   "id": "0db09cb7-9e9c-4a84-8dfe-5958f1b413b2",
   "metadata": {},
   "outputs": [],
   "source": [
    "# Create an file-system object for the s3 bucket\n",
    "onxia_user_name = os.environ[\"GIT_USER_NAME\"]\n",
    "bucket_name = f\"oidc-{onxia_user_name}\"\n",
    "S3_ENDPOINT_URL = os.environ[\"S3_ENDPOINT\"]\n",
    "fs = s3fs.S3FileSystem(client_kwargs={'endpoint_url': S3_ENDPOINT_URL})"
   ]
  },
  {
   "cell_type": "code",
   "execution_count": 8,
   "id": "6bc0befc-4c53-4e51-89ab-005ae865a351",
   "metadata": {},
   "outputs": [
    {
     "data": {
      "application/vnd.jupyter.widget-view+json": {
       "model_id": "1c98dbad7b66429b8cfc0872caa57a03",
       "version_major": 2,
       "version_minor": 0
      },
      "text/plain": [
       "VBox(children=(HTML(value='<h2>Selecting specie</h2>'), HTML(value='<p>Write the name of the specie for which …"
      ]
     },
     "metadata": {},
     "output_type": "display_data"
    },
    {
     "data": {
      "application/vnd.jupyter.widget-view+json": {
       "model_id": "b53fe84dd9b94643bf8b6e715b109200",
       "version_major": 2,
       "version_minor": 0
      },
      "text/plain": [
       "VBox(children=(HTML(value='<h2>Create response curves</h2>'), HTML(value='<p3> Choose variable to create respo…"
      ]
     },
     "metadata": {},
     "output_type": "display_data"
    },
    {
     "data": {
      "application/vnd.jupyter.widget-view+json": {
       "model_id": "7fbe5d099e27476a83db0631e2a95813",
       "version_major": 2,
       "version_minor": 0
      },
      "text/plain": [
       "interactive(children=(ToggleButtons(description='Variable dimension:', options=('2D', '3D'), value='2D'), Outp…"
      ]
     },
     "metadata": {},
     "output_type": "display_data"
    },
    {
     "data": {
      "application/vnd.jupyter.widget-view+json": {
       "model_id": "89941db2189245678becf5beb108545e",
       "version_major": 2,
       "version_minor": 0
      },
      "text/plain": [
       "VBox(children=(Dropdown(description='Select time operation:', layout=Layout(width='400px'), options=(('Average…"
      ]
     },
     "metadata": {},
     "output_type": "display_data"
    },
    {
     "data": {
      "application/vnd.jupyter.widget-view+json": {
       "model_id": "3f741aaee39d495bba9c49f92b81d935",
       "version_major": 2,
       "version_minor": 0
      },
      "text/plain": [
       "VBox(children=(HTML(value='<br><p>Write x and y coordinates to define the response curves of the specie for th…"
      ]
     },
     "metadata": {},
     "output_type": "display_data"
    },
    {
     "data": {
      "application/vnd.jupyter.widget-view+json": {
       "model_id": "9e6930780bf142eab11952ef6632368c",
       "version_major": 2,
       "version_minor": 0
      },
      "text/plain": [
       "Button(button_style='info', description='Write variable file', style=ButtonStyle())"
      ]
     },
     "metadata": {},
     "output_type": "display_data"
    },
    {
     "data": {
      "application/vnd.jupyter.widget-view+json": {
       "model_id": "2823595ef7ab4ea59ad9c24b5e98912c",
       "version_major": 2,
       "version_minor": 0
      },
      "text/plain": [
       "VBox(children=(HTML(value='<h2>D-EcoImpact required files</h2>'), HTML(value='<p>Write the file path to the in…"
      ]
     },
     "metadata": {},
     "output_type": "display_data"
    },
    {
     "data": {
      "application/vnd.jupyter.widget-view+json": {
       "model_id": "500487be37bf43749a5c99eee4bd9e53",
       "version_major": 2,
       "version_minor": 0
      },
      "text/plain": [
       "VBox(children=(HTML(value='<p>Write the file path to the output netCDF dataset.</p>'), Text(value='/path/outpu…"
      ]
     },
     "metadata": {},
     "output_type": "display_data"
    },
    {
     "data": {
      "application/vnd.jupyter.widget-view+json": {
       "model_id": "d06fed8e34314eb18b01e3de888d79cb",
       "version_major": 2,
       "version_minor": 0
      },
      "text/plain": [
       "VBox(children=(HTML(value='<p>Write the chosen name of the yaml file necessary to run D-EcoImpact.</p>'), Text…"
      ]
     },
     "metadata": {},
     "output_type": "display_data"
    },
    {
     "data": {
      "application/vnd.jupyter.widget-view+json": {
       "model_id": "4e9c03d8e78842e0bd77afc52e691f95",
       "version_major": 2,
       "version_minor": 0
      },
      "text/plain": [
       "Button(button_style='danger', description='Create final yaml file', style=ButtonStyle())"
      ]
     },
     "metadata": {},
     "output_type": "display_data"
    }
   ],
   "source": [
    "%run ./ProNotebook.py"
   ]
  },
  {
   "cell_type": "code",
   "execution_count": 10,
   "id": "6917400e-22fc-425e-a4f3-2b4db20df58b",
   "metadata": {},
   "outputs": [],
   "source": [
    "# upload the output file to s3\n",
    "outdir = \"D-EcoImpact\"\n",
    "output_file_path = \"rules.yaml\"\n",
    "fs.upload(output_file_path, f\"{bucket_name}/{outdir}/{output_file_path}\")"
   ]
  },
  {
   "cell_type": "code",
   "execution_count": null,
   "id": "ec67dc56-b347-4628-956d-4d9eb0e6488b",
   "metadata": {},
   "outputs": [],
   "source": []
  }
 ],
 "metadata": {
  "kernelspec": {
   "display_name": "Python 3 (ipykernel)",
   "language": "python",
   "name": "python3"
  },
  "language_info": {
   "codemirror_mode": {
    "name": "ipython",
    "version": 3
   },
   "file_extension": ".py",
   "mimetype": "text/x-python",
   "name": "python",
   "nbconvert_exporter": "python",
   "pygments_lexer": "ipython3",
   "version": "3.10.13"
  }
 },
 "nbformat": 4,
 "nbformat_minor": 5
}
