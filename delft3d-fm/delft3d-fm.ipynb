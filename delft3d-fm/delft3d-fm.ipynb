{
 "cells": [
  {
   "cell_type": "markdown",
   "id": "0822d911-b9bd-4479-b3a1-7b82fa34db71",
   "metadata": {},
   "source": [
    "# User Data and Repository"
   ]
  },
  {
   "cell_type": "code",
   "execution_count": 72,
   "id": "45f97884-7de7-44f1-8c4d-8b19945612ca",
   "metadata": {},
   "outputs": [],
   "source": [
    "user = \"delt550999\"\n",
    "# Where are the configuration files relative to git repo path\n",
    "conf_path = \"delft3d-fm/autosubmit/conf/\"\n",
    "# Main platform of the experiment\n",
    "hpcarch = \"marenostrum5\"\n",
    "# A description of this experiment\n",
    "exp_description = \"Delft3D-FM\"\n",
    "project = \"ehpc69\"\n",
    "host = \"glogin1.bsc.es\"\n",
    "queue = \"gp_ehpc\""
   ]
  },
  {
   "cell_type": "markdown",
   "id": "e9961ea8-b41a-4a27-bdbd-78cf3c689e8d",
   "metadata": {},
   "source": [
    "#### Settings to use a different user or repository."
   ]
  },
  {
   "cell_type": "code",
   "execution_count": 74,
   "id": "de653b20-e971-41a5-9ddd-4441eb38074b",
   "metadata": {},
   "outputs": [
    {
     "name": "stdout",
     "output_type": "stream",
     "text": [
      "/usr/bin/ssh-copy-id: INFO: Source of key(s) to be installed: \"/home/onyxia/.ssh/id_rsa.pub\"\n",
      "/usr/bin/ssh-copy-id: INFO: attempting to log in with the new key(s), to filter out any that are already installed\n",
      "/usr/bin/ssh-copy-id: INFO: 1 key(s) remain to be installed -- if you are prompted now it is to install the new keys\n",
      "fdelt550999@glogin2.bsc.es's password: \n"
     ]
    }
   ],
   "source": [
    "!ssh-copy-id f\"{user}@{host}\""
   ]
  },
  {
   "cell_type": "code",
   "execution_count": 73,
   "id": "94f1dfb7-53c9-4036-bfca-ae6cdfa8326e",
   "metadata": {},
   "outputs": [
    {
     "name": "stdout",
     "output_type": "stream",
     "text": [
      "fdelt550999@glogin2.bsc.es's password: \n"
     ]
    }
   ],
   "source": [
    "!ssh f\"{user}@{host}\""
   ]
  },
  {
   "cell_type": "code",
   "execution_count": 19,
   "id": "0f32698f-d482-4fee-935e-45f9295642fa",
   "metadata": {},
   "outputs": [
    {
     "name": "stdout",
     "output_type": "stream",
     "text": [
      "Set INTEL compilers as MPI wrappers backend\n",
      "load impi/2021.10.0 (PATH, MANPATH, LD_LIBRARY_PATH)\n",
      "load mkl/2023.2.0 (LD_LIBRARY_PATH)\n",
      "load UCX/1.15.0 (PATH, LD_LIBRARY_PATH, LIBRARY_PATH, C_INCLUDE_PATH,\n",
      "CPLUS_INCLUDE_PATH) \n",
      "load bsc/1.0 (PATH, MANPATH)\n",
      "Connected\n"
     ]
    }
   ],
   "source": [
    "#BSC connection checker\n",
    "scratch_dir = \"/gpfs/scratch\"\n",
    "cmd = f\"{user}@{host} echo Connected\"\n",
    "!ssh -o StrictHostKeyChecking=accept-new {cmd} "
   ]
  },
  {
   "cell_type": "markdown",
   "id": "194cf515-3e4c-4b5b-9250-b6433677f960",
   "metadata": {},
   "source": [
    "# Clone Test Case"
   ]
  },
  {
   "cell_type": "code",
   "execution_count": 59,
   "id": "6569556c-9213-47a3-bdaf-6f4e123b406d",
   "metadata": {},
   "outputs": [
    {
     "name": "stdout",
     "output_type": "stream",
     "text": [
      "Cloning into 'EditoServices'...\n",
      "remote: Enumerating objects: 624, done.\u001b[K\n",
      "remote: Counting objects: 100% (305/305), done.\u001b[K\n",
      "remote: Compressing objects: 100% (175/175), done.\u001b[K\n",
      "remote: Total 624 (delta 139), reused 256 (delta 93), pack-reused 319 (from 1)\u001b[K\n",
      "Receiving objects: 100% (624/624), 374.70 KiB | 1.91 MiB/s, done.\n",
      "Resolving deltas: 100% (295/295), done.\n"
     ]
    }
   ],
   "source": [
    "# Repo\n",
    "repo = \"https://github.com/Deltares-research/EditoServices\"\n",
    "# Branch \n",
    "branch = \"dflowfm-singularity\" \n",
    "! git clone --branch $branch $repo"
   ]
  },
  {
   "cell_type": "markdown",
   "id": "a7fff249-0cd3-4697-8e09-8086900fe7ec",
   "metadata": {},
   "source": [
    "## Copy Test Case to cluster "
   ]
  },
  {
   "cell_type": "code",
   "execution_count": 76,
   "id": "9e4a7b50-1257-4ba3-8483-3717f23600da",
   "metadata": {},
   "outputs": [
    {
     "name": "stdout",
     "output_type": "stream",
     "text": [
      "Set INTEL compilers as MPI wrappers backend\n",
      "load impi/2021.10.0 (PATH, MANPATH, LD_LIBRARY_PATH)\n",
      "load mkl/2023.2.0 (LD_LIBRARY_PATH)\n",
      "load UCX/1.15.0 (PATH, LD_LIBRARY_PATH, LIBRARY_PATH, C_INCLUDE_PATH,\n",
      "CPLUS_INCLUDE_PATH) \n",
      "load bsc/1.0 (PATH, MANPATH)\n",
      "dimr_config.xml                               100%  812    13.4KB/s   00:00    \n",
      "mpi-error.out                                 100% 3221    53.1KB/s   00:00    \n",
      "two-nodes-two-tasks-per-node-successful-job.o 100%   66KB 372.5KB/s   00:00    \n",
      "boundaryriver.pli                             100%   78     1.3KB/s   00:00    \n",
      "boundaryriver_0001.cmp                        100%  132     2.2KB/s   00:00    \n",
      "crosssections_crs.pli                         100%  312     5.2KB/s   00:00    \n",
      "westerscheldt_net.nc                          100%  689KB   2.8MB/s   00:00    \n",
      "obslocations_obs.xyn                          100%  198     3.3KB/s   00:00    \n",
      "boundarysea_0001.cmp                          100%  145     2.4KB/s   00:00    \n",
      "westerscheldt.ext                             100% 3966    65.4KB/s   00:00    \n",
      "boundarysea.pli                               100%  326     5.4KB/s   00:00    \n",
      "westerscheldt_part.pol                        100%   41KB 695.8KB/s   00:00    \n",
      "westerscheldt.mdu                             100%   25KB 419.4KB/s   00:00    \n",
      "slurm-62775.out                               100%   63KB   1.0MB/s   00:00    \n",
      "one-node-one-task-successful-job-slurm.out    100%   16KB 262.1KB/s   00:00    \n"
     ]
    }
   ],
   "source": [
    "!scp -r EditoServices/delft3d-fm/test-case $user@$host:from-edito/"
   ]
  },
  {
   "cell_type": "code",
   "execution_count": 20,
   "id": "0d2995f3-bc84-43ed-87af-cc80baf34e0d",
   "metadata": {},
   "outputs": [],
   "source": [
    "%%capture output --no-stderr\n",
    "!autosubmit expid -min -repo {repo} -H {hpcarch} -b {branch} -conf {conf_path} -d \"{exp_description}\"\n",
    "# -min: \n",
    "  # Generates a minimal configuration file that replaces the one shown in previous examples\n",
    "  # Mainly used to load versioned configuration files, and the to-go configuration in AS 4+\n",
    "# -b: Specifies the git branch\n",
    "# -conf : Specifies the path to the versioned configuration files. The root folder is the git repository root."
   ]
  },
  {
   "cell_type": "code",
   "execution_count": 43,
   "id": "f726e15f-153d-4ec3-af3f-d994564ec29f",
   "metadata": {},
   "outputs": [
    {
     "name": "stdout",
     "output_type": "stream",
     "text": [
      "The a001 experiment 4.1.10 version is being updated to 4.0.105 for match autosubmit version\n",
      "Autosubmit is running with 4.0.105\n",
      "Preparing .lock file to avoid multiple instances with same expid.\n",
      "Using project folder: /home/onyxia/autosubmit/a001/proj\n",
      "\n",
      "Checking configuration files...\n",
      "\u001b[32mExpdef config file is correct\u001b[0m\u001b[39m\n",
      "\u001b[32mPlatforms sections: OK\u001b[0m\u001b[39m\n",
      "\u001b[32mJobs sections OK\u001b[0m\u001b[39m\n",
      "\u001b[32mAutosubmit general sections OK\u001b[0m\u001b[39m\n",
      "\u001b[32mConfiguration files OK\n",
      "\u001b[0m\u001b[39m\n",
      "Loading parameters...\n",
      "\n",
      "Creating the jobs list...\n",
      "Creating jobs...\n",
      "Loading JobList\n",
      "Adding dependencies...\n",
      "Removing redundant dependencies...\n",
      "Updating structure persistence...\n",
      "Looking for edgeless jobs...\n",
      "Creating jobs...\n",
      "Adding dependencies...\n",
      "Removing redundant dependencies...\n",
      "Updating structure persistence...\n",
      "Looking for edgeless jobs...\n",
      "\n",
      "Saving the jobs list...\n",
      "\n",
      "Saving unified data..\n",
      "\n",
      "\n",
      "Plotting the jobs list...\n",
      "Plotting...\n",
      "\u001b[32mPlot created at /home/onyxia/autosubmit/a001/plot/a001_20240912_1119.pdf\u001b[0m\u001b[39m\n",
      "Writing status txt...\n",
      "\u001b[32mStatus txt created at <_io.TextIOWrapper name='/home/onyxia/autosubmit/a001/status/a001_20240912_1119.txt' mode='w+' encoding='UTF-8'>\u001b[0m\u001b[39m\n",
      "[Errno 2] No such file or directory: 'mimeopen'\n",
      "[Errno 2] No such file or directory: 'mimeopen'\n",
      "Specified output doesn't have an available viewer installed or graphviz is not installed. The output was only written in txt\n",
      "\u001b[32m\n",
      "Job list created successfully\u001b[0m\u001b[39m\n",
      "Stored 'expid' (str)\n"
     ]
    }
   ],
   "source": [
    "# Show expid output\n",
    "output.show()\n",
    "#Get Expid directly from this output for the other commands\n",
    "expid_command_output = output.stdout\n",
    "expid = expid_command_output.split(\"\\r\\n\")[-2].split(\" \")[1]\n",
    "#If you want to use another expid, comment the previous lines and uncomment this one\n",
    "expid = \"a001\"\n",
    "%store expid"
   ]
  },
  {
   "cell_type": "code",
   "execution_count": 44,
   "id": "a9050449-4eb0-493e-8155-f61abee4c56d",
   "metadata": {},
   "outputs": [
    {
     "name": "stdout",
     "output_type": "stream",
     "text": [
      "conf  pkl  plot  proj  status  tmp\n",
      "Stored 'exp_root' (str)\n"
     ]
    }
   ],
   "source": [
    "# FileStructure\n",
    "!ls /home/onyxia/autosubmit/{expid}\n",
    "# Mount it in the file explorer\n",
    "!ln -s /home/onyxia/autosubmit/{expid} . 2> /dev/null # in case folder is already mounted\n",
    "# The exp_root in this example is the expid folder.\n",
    "# We have the expid in our current_directory as a symbolic link\n",
    "exp_root = expid\n",
    "%store exp_root"
   ]
  },
  {
   "cell_type": "code",
   "execution_count": 45,
   "id": "6e290676-5b3d-4c53-8faf-2dd1883ad238",
   "metadata": {},
   "outputs": [
    {
     "name": "stdout",
     "output_type": "stream",
     "text": [
      "a001\n"
     ]
    }
   ],
   "source": [
    "! echo $expid"
   ]
  },
  {
   "cell_type": "code",
   "execution_count": 23,
   "id": "567dc42c-0622-40ac-87a1-f325e7b81075",
   "metadata": {},
   "outputs": [
    {
     "name": "stdout",
     "output_type": "stream",
     "text": [
      "Autosubmit is running with 4.0.105\n",
      "Cloning dflowfm-singularity https://github.com/Deltares-research/EditoServices into /home/onyxia/autosubmit/a001/proj\n",
      "Cloning into 'git_project'...\n",
      "remote: Enumerating objects: 624, done.\u001b[K\n",
      "remote: Counting objects: 100% (305/305), done.\u001b[K\n",
      "remote: Compressing objects: 100% (175/175), done.\u001b[K\n",
      "remote: Total 624 (delta 139), reused 256 (delta 93), pack-reused 319 (from 1)\u001b[K\n",
      "Receiving objects: 100% (624/624), 374.70 KiB | 4.07 MiB/s, done.\n",
      "Resolving deltas: 100% (295/295), done.\n",
      "\u001b[32mProject folder updated\u001b[0m\u001b[39m\n"
     ]
    }
   ],
   "source": [
    "# This command downloads the git_repo and, by default, puts it inside the folder {exp_root}/proj/git_project\n",
    "!autosubmit refresh {expid} -v"
   ]
  },
  {
   "cell_type": "code",
   "execution_count": 24,
   "id": "bfe5d70b-b6bf-44d8-872a-11efd6bb21bf",
   "metadata": {},
   "outputs": [
    {
     "name": "stdout",
     "output_type": "stream",
     "text": [
      "CONFIG:\n",
      "  # Current version of Autosubmit.\n",
      "  AUTOSUBMIT_VERSION: \"4.0.105\"\n",
      "  # Total number of jobs in the workflow.\n",
      "  TOTALJOBS: 20\n",
      "  # Maximum number of jobs permitted in the waiting status.\n",
      "  MAXWAITINGJOBS: 20\n",
      "DEFAULT:\n",
      "  # Job experiment ID.\n",
      "  EXPID: \"a001\"\n",
      "  # Default HPC platform name.\n",
      "  HPCARCH: \"marenostrum5\"\n",
      "  #hint: use %PROJDIR% to point to the project folder (where the project is cloned)\n",
      "  # Custom configuration location.\n",
      "  CUSTOM_CONFIG: \"%PROJDIR%/delft3d-fm/autosubmit/conf/\"\n",
      "PROJECT:\n",
      "  # Type of the project.\n",
      "  PROJECT_TYPE: git\n",
      "  # Folder to hold the project sources.\n",
      "  PROJECT_DESTINATION: git_project\n",
      "GIT:\n",
      "  PROJECT_ORIGIN: \"https://github.com/Deltares-research/EditoServices\"\n",
      "  PROJECT_BRANCH: \"dflowfm-singularity\"\n",
      "  PROJECT_COMMIT: ''\n",
      "  PROJECT_SUBMODULES: ''\n",
      "  FETCH_SINGLE_BRANCH: true\n"
     ]
    }
   ],
   "source": [
    "# Autosubmit refresh uses the content inside this file, to know where are the rest of the config files\n",
    "!cat {expid}/conf/minimal.yml"
   ]
  },
  {
   "cell_type": "code",
   "execution_count": 47,
   "id": "4e1b4600-7372-4592-85a0-b503bc291897",
   "metadata": {},
   "outputs": [
    {
     "name": "stdout",
     "output_type": "stream",
     "text": [
      "conf  pkl  plot  proj  status  tmp\n"
     ]
    }
   ],
   "source": [
    "!ls /home/onyxia/autosubmit/$expid"
   ]
  },
  {
   "cell_type": "code",
   "execution_count": 48,
   "id": "adcc0ad2-c95d-483a-a169-eb0fea85062d",
   "metadata": {},
   "outputs": [
    {
     "name": "stdout",
     "output_type": "stream",
     "text": [
      "jobs.yml\n"
     ]
    }
   ],
   "source": [
    "# We can find the rest of the config in the DEFAULT.CUSTOM_CONFIG path\n",
    "# %PROJDIR% is an AS_placeholder that points to {exp_root}/%PROJECT.PROJECT_DESTINATION%\n",
    "!ls {exp_root}/proj/git_project/{conf_path}"
   ]
  },
  {
   "cell_type": "code",
   "execution_count": 49,
   "id": "6eef4a5e-ad4c-4b78-8a43-33fdf683ca61",
   "metadata": {},
   "outputs": [
    {
     "name": "stdout",
     "output_type": "stream",
     "text": [
      "ls: cannot access 'a001/proj/git_project/templates': No such file or directory\n"
     ]
    }
   ],
   "source": [
    "#In this repo, we can find the templates under %PROJDIR%/templates\n",
    "!ls {exp_root}/proj/git_project/templates"
   ]
  },
  {
   "cell_type": "code",
   "execution_count": 30,
   "id": "49efa78f-7ecd-42a7-962f-488e4493d471",
   "metadata": {},
   "outputs": [],
   "source": [
    "# This step is slightly different than in the other notebooks.\n",
    "# In this expid, the platform.yml is already there with the definition of the platforms. \n",
    "#!cat {exp_root}/proj/git_project/as_conf/platforms.yml\n",
    "# We will overwrite only what we want to change from that file.\n",
    "# This means that instead of filling the whole platforms.yml we will fill only the necessary.\n",
    "platforms_file = f\"\"\"PLATFORMS:\n",
    "  MARENOSTRUM5:\n",
    "    TYPE: slurm\n",
    "    HOST: {host}\n",
    "    PROJECT: {project}\n",
    "    USER: {user}\n",
    "    QUEUE: {queue}\n",
    "    SCRATCH_DIR: /gpfs/scratch\n",
    "    ADD_PROJECT_TO_HOST: False\n",
    "    MAX_WALLCLOCK: '48:00'\n",
    "\"\"\"\n",
    "# And store it in our home directory.\n",
    "import os \n",
    "with open(f\"{os.environ['HOME']}/platforms.yml\", \"w\") as fd:\n",
    "    fd.write(platforms_file)\n",
    "\n",
    "# For Autosubmit to acknowledge this file, we must modify the {exp_root}/conf/minimal.yml %DEFAULT.CUSTOM_CONFIG% key and add a POST key. \n",
    "# You can also use the file_explorer\n",
    "minimal=f\"\"\"CONFIG:\n",
    "  # Current version of Autosubmit.\n",
    "  AUTOSUBMIT_VERSION: \"4.1.10\"\n",
    "  # Total number of jobs in the workflow.\n",
    "  TOTALJOBS: 20\n",
    "  # Maximum number of jobs permitted in the waiting status.\n",
    "  MAXWAITINGJOBS: 20\n",
    "DEFAULT:\n",
    "  # Job experiment ID.\n",
    "  EXPID: \"{expid}\"\n",
    "  # Default HPC platform name.\n",
    "  HPCARCH: {hpcarch}\n",
    "  #hint: use %PROJDIR% to point to the project folder (where the project is cloned)\n",
    "  # Custom configuration location.\n",
    "  CUSTOM_CONFIG: \n",
    "   PRE: \"%PROJDIR%/{conf_path}\"\n",
    "   POST: \"~/platforms.yml\"\n",
    "PROJECT:\n",
    "  # Type of the project.\n",
    "  PROJECT_TYPE: git\n",
    "  # Folder to hold the project sources.\n",
    "  PROJECT_DESTINATION: git_project\n",
    "EXPERIMENT:\n",
    "  DATELIST: \"20000101\"\n",
    "  MEMBERS: \"fc0\"\n",
    "  CHUNKSIZEUNIT: month\n",
    "  CHUNKSIZE: \"4\"\n",
    "  NUMCHUNKS: \"2\"\n",
    "  CHUNKINI: ''\n",
    "  CALENDAR: standard\n",
    "GIT:\n",
    "  PROJECT_ORIGIN: \"{repo}\"\n",
    "  PROJECT_BRANCH: \"{branch}\"\n",
    "  PROJECT_COMMIT: ''\n",
    "  PROJECT_SUBMODULES: ''\n",
    "  FETCH_SINGLE_BRANCH: true\n",
    "\"\"\"\n",
    "# And store it in the conf path\n",
    "with open(f\"{expid}/conf/minimal.yml\", \"w\") as fd:\n",
    "    fd.write(minimal)"
   ]
  },
  {
   "cell_type": "code",
   "execution_count": 77,
   "id": "f5cbde5e-88cd-4aff-86f0-93754e7cd5d3",
   "metadata": {},
   "outputs": [],
   "source": [
    "%%capture output --no-stderr\n",
    "!autosubmit create {expid} -v"
   ]
  },
  {
   "cell_type": "code",
   "execution_count": 78,
   "id": "5213a410-1c1e-403f-9966-4657c574e3b7",
   "metadata": {},
   "outputs": [
    {
     "name": "stdout",
     "output_type": "stream",
     "text": [
      "/home/onyxia/autosubmit/a001/plot/a001_20240912_1143.pdf\n"
     ]
    },
    {
     "data": {
      "text/html": [
       "\n",
       "        <iframe\n",
       "            width=\"600\"\n",
       "            height=\"300\"\n",
       "            src=\"a001/plot/a001_20240912_1143.pdf\"\n",
       "            frameborder=\"0\"\n",
       "            allowfullscreen\n",
       "            \n",
       "        ></iframe>\n",
       "        "
      ],
      "text/plain": [
       "<IPython.lib.display.IFrame at 0x7fb3bbc67ca0>"
      ]
     },
     "execution_count": 78,
     "metadata": {},
     "output_type": "execute_result"
    }
   ],
   "source": [
    "# Capture the file_path to the plot\n",
    "create_command_output = output.stdout\n",
    "parsed_by_lines = create_command_output.split(\"\\r\\n\")\n",
    "for line in parsed_by_lines:\n",
    "    if \"Plot created\".casefold() in line.casefold():\n",
    "        filepath = line.split(\" \")[-1].split(\".\")[0] +\".pdf\"\n",
    "print(filepath) \n",
    "# Then plot it using Jupyter Python.\n",
    "from IPython.display import IFrame\n",
    "from pathlib import Path\n",
    "IFrame(f\"{expid}/plot/{Path(filepath).name}\", width=600, height=300)"
   ]
  },
  {
   "cell_type": "code",
   "execution_count": 79,
   "id": "8bbf4ae9-d46e-4cd7-8e3a-8ba5fbfdb0e0",
   "metadata": {},
   "outputs": [
    {
     "name": "stdout",
     "output_type": "stream",
     "text": [
      "Autosubmit is running with 4.0.105\n",
      "\n",
      "Checking configuration files...\n",
      "\u001b[32mExpdef config file is correct\u001b[0m\u001b[39m\n",
      "\u001b[32mPlatforms sections: OK\u001b[0m\u001b[39m\n",
      "\u001b[32mJobs sections OK\u001b[0m\u001b[39m\n",
      "\u001b[32mAutosubmit general sections OK\u001b[0m\u001b[39m\n",
      "\u001b[32mConfiguration files OK\n",
      "\u001b[0m\u001b[39m\n",
      "\u001b[H\u001b[2JCreating jobs...\n",
      "Loading JobList\n",
      "Adding dependencies...\n",
      "Removing redundant dependencies...\n",
      "File jobs_a001.yml was not found.\n",
      "Using existing valid structure.\n",
      "Looking for edgeless jobs...\n",
      "Checking scripts...\n",
      "1 of 1 checked\n",
      "\u001b[32mScripts OK\u001b[0m\u001b[39m\n",
      "Autosubmit is running with v4.0.105\n",
      "Checking the connection to all platforms in use\n",
      "\u001b[32m[MARENOSTRUM5] Correct user privileges for host glogin2.bsc.es\u001b[0m\u001b[39m\n",
      "\u001b[32m[MARENOSTRUM5] Connection successful to host glogin2.bsc.es\u001b[0m\u001b[39m\n",
      "\n",
      "\n",
      "1 of 1 jobs remaining (11:43)\n",
      "No jobs to check for platform MARENOSTRUM5\n",
      "Command /gpfs/scratch/ehpc69/delt550999/a001/LOG_a001/submit_MARENOSTRUM5.sh in glogin2.bsc.es warning: Set INTEL compilers as MPI wrappers backend\n",
      "load impi/2021.10.0 (PATH, MANPATH, LD_LIBRARY_PATH)\n",
      "load mkl/2023.2.0 (LD_LIBRARY_PATH)\n",
      "load UCX/1.15.0 (PATH, LD_LIBRARY_PATH, LIBRARY_PATH, C_INCLUDE_PATH,\n",
      "CPLUS_INCLUDE_PATH) \n",
      "load bsc/1.0 (PATH, MANPATH)\n",
      "\n",
      "Call from a001_SIM with status SUBMITTED\n",
      "\n",
      "\n",
      "1 of 1 jobs remaining (11:44)\n",
      "Checking 1 jobs for platform MARENOSTRUM5\n",
      "Command sacct -n -X --jobs 6425284 -o jobid,State in glogin2.bsc.es warning: Set INTEL compilers as MPI wrappers backend\n",
      "load impi/2021.10.0 (PATH, MANPATH, LD_LIBRARY_PATH)\n",
      "load mkl/2023.2.0 (LD_LIBRARY_PATH)\n",
      "load UCX/1.15.0 (PATH, LD_LIBRARY_PATH, LIBRARY_PATH, C_INCLUDE_PATH,\n",
      "CPLUS_INCLUDE_PATH) \n",
      "load bsc/1.0 (PATH, MANPATH)\n",
      "\n",
      "Job a001_SIM is RUNNING\n",
      "\n",
      "\n",
      "1 of 1 jobs remaining (11:44)\n",
      "Checking 1 jobs for platform MARENOSTRUM5\n",
      "Command sacct -n -X --jobs 6425284 -o jobid,State in glogin2.bsc.es warning: Set INTEL compilers as MPI wrappers backend\n",
      "load impi/2021.10.0 (PATH, MANPATH, LD_LIBRARY_PATH)\n",
      "load mkl/2023.2.0 (LD_LIBRARY_PATH)\n",
      "load UCX/1.15.0 (PATH, LD_LIBRARY_PATH, LIBRARY_PATH, C_INCLUDE_PATH,\n",
      "CPLUS_INCLUDE_PATH) \n",
      "load bsc/1.0 (PATH, MANPATH)\n",
      "\n",
      "\u001b[32mJob a001_SIM is COMPLETED\u001b[0m\u001b[39m\n",
      "\u001b[32mNo more jobs to run.\u001b[0m\u001b[39m\n",
      "JOB_data_a001_SIM is still retrieving outputs, time remaining is 180 seconds.\n",
      "JOB_data_a001_SIM is still retrieving outputs, time remaining is 170 seconds.\n",
      "JOB_data_a001_SIM is still retrieving outputs, time remaining is 160 seconds.\n",
      "JOB_data_a001_SIM is still retrieving outputs, time remaining is 150 seconds.\n",
      "JOB_data_a001_SIM is still retrieving outputs, time remaining is 140 seconds.\n",
      "JOB_data_a001_SIM is still retrieving outputs, time remaining is 130 seconds.\n",
      "Command sacct -n --jobs 6425284 -o JobId%25,State,NCPUS,NNodes,Submit,Start,End,ConsumedEnergy,MaxRSS%25,AveRSS%25 in glogin2.bsc.es warning: Set INTEL compilers as MPI wrappers backend\n",
      "load impi/2021.10.0 (PATH, MANPATH, LD_LIBRARY_PATH)\n",
      "load mkl/2023.2.0 (LD_LIBRARY_PATH)\n",
      "load UCX/1.15.0 (PATH, LD_LIBRARY_PATH, LIBRARY_PATH, C_INCLUDE_PATH,\n",
      "CPLUS_INCLUDE_PATH) \n",
      "load bsc/1.0 (PATH, MANPATH)\n",
      "\n",
      "\u001b[32mRun successful\u001b[0m\u001b[39m\n"
     ]
    }
   ],
   "source": [
    "!autosubmit run {expid} "
   ]
  },
  {
   "cell_type": "markdown",
   "id": "5296c737-0091-4365-a36a-3882fa457bfe",
   "metadata": {},
   "source": [
    "> NOTE: In the next sessions you will learn to use the Autosubmit GUI to monitor your experiments. Here we will use the Autosubmit command-line interface for that."
   ]
  },
  {
   "cell_type": "code",
   "execution_count": 50,
   "id": "03f56d72-a0b8-4cc3-b60e-0bcb690eb155",
   "metadata": {},
   "outputs": [],
   "source": [
    "%%capture monitor_output --no-stderr\n",
    "!autosubmit monitor {expid}"
   ]
  },
  {
   "cell_type": "markdown",
   "id": "a97a4789-1cc1-4315-bf21-736afdf23b8a",
   "metadata": {},
   "source": [
    "# Copy Whole model Back from Cluster (with results)"
   ]
  },
  {
   "cell_type": "code",
   "execution_count": 80,
   "id": "2fb7a2c6-4794-4dab-98b0-1447723cff78",
   "metadata": {},
   "outputs": [
    {
     "name": "stdout",
     "output_type": "stream",
     "text": [
      "Set INTEL compilers as MPI wrappers backend\n",
      "load impi/2021.10.0 (PATH, MANPATH, LD_LIBRARY_PATH)\n",
      "load mkl/2023.2.0 (LD_LIBRARY_PATH)\n",
      "load UCX/1.15.0 (PATH, LD_LIBRARY_PATH, LIBRARY_PATH, C_INCLUDE_PATH,\n",
      "CPLUS_INCLUDE_PATH) \n",
      "load bsc/1.0 (PATH, MANPATH)\n",
      "boundaryriver.pli                             100%   78     1.3KB/s   00:00    \n",
      "boundaryriver_0001.cmp                        100%  132     2.2KB/s   00:00    \n",
      "boundarysea_0001.cmp                          100%  145     2.5KB/s   00:00    \n",
      "obslocations_obs.xyn                          100%  198     3.3KB/s   00:00    \n",
      "boundarysea.pli                               100%  326     5.5KB/s   00:00    \n",
      "westerscheldt.ext                             100% 3966    66.6KB/s   00:00    \n",
      "westerscheldt.cache                           100%  917KB   2.2MB/s   00:00    \n",
      "westerscheldt.dia                             100%   74KB   1.2MB/s   00:00    \n",
      "westerscheldt_his.nc                          100%   22KB 370.0KB/s   00:00    \n",
      "westerscheldt_net.nc                          100%  689KB  10.7MB/s   00:00    \n",
      "westerscheldt.mdu                             100%   25KB 421.9KB/s   00:00    \n",
      "westerscheldt_part.pol                        100%   41KB 711.6KB/s   00:00    \n",
      "crosssections_crs.pli                         100%  312     5.3KB/s   00:00    \n"
     ]
    }
   ],
   "source": [
    "!scp -r $user@$host:from-edito/dflowfm/ results/"
   ]
  },
  {
   "cell_type": "code",
   "execution_count": 36,
   "id": "09e4ed93-4044-4881-9e9d-944b73687586",
   "metadata": {},
   "outputs": [
    {
     "name": "stdout",
     "output_type": "stream",
     "text": [
      "/home/onyxia/autosubmit/a001/plot/a001_20240912_1122.pdf\n"
     ]
    },
    {
     "data": {
      "text/html": [
       "\n",
       "        <iframe\n",
       "            width=\"600\"\n",
       "            height=\"300\"\n",
       "            src=\"a001/plot/a001_20240912_1122.pdf\"\n",
       "            frameborder=\"0\"\n",
       "            allowfullscreen\n",
       "            \n",
       "        ></iframe>\n",
       "        "
      ],
      "text/plain": [
       "<IPython.lib.display.IFrame at 0x7fb3bbca7100>"
      ]
     },
     "execution_count": 36,
     "metadata": {},
     "output_type": "execute_result"
    }
   ],
   "source": [
    "# Capture the file_path to the plot\n",
    "monitor_command_output = monitor_output.stdout\n",
    "parsed_by_lines = monitor_command_output.split(\"\\r\\n\")\n",
    "for line in parsed_by_lines:\n",
    "    if \"Plot created\".casefold() in line.casefold():\n",
    "        filepath = line.split(\" \")[-1].split(\".\")[0] +\".pdf\"\n",
    "print(filepath) \n",
    "# Then plot it using Jupyter Python.\n",
    "from IPython.display import IFrame\n",
    "from pathlib import Path\n",
    "IFrame(f\"{expid}/plot/{Path(filepath).name}\", width=600, height=300)"
   ]
  },
  {
   "cell_type": "code",
   "execution_count": 51,
   "id": "fb9d4cc2-6c92-49d4-af59-bff8230d3227",
   "metadata": {},
   "outputs": [
    {
     "name": "stdout",
     "output_type": "stream",
     "text": [
      "20240912_111711_refresh_err.log  ..\n",
      "20240912_111711_refresh.log\t 20240912_112133_monitor_err.log\n",
      "20240912_111933_create_err.log\t 20240912_112133_monitor.log\n",
      "20240912_111933_create.log\t 20240912_112200_monitor_err.log\n",
      "20240912_111945_run_err.log\t 20240912_112200_monitor.log\n",
      "submit_MARENOSTRUM5.sh\t\t 20240912_112546_monitor_err.log\n",
      "jobs_failed_status.log\t\t .\n",
      "jobs_active_status.log\t\t 20240912_112546_monitor.log\n",
      "20240912_111945_run.log\n"
     ]
    }
   ],
   "source": [
    "#Aslogs are located inside\n",
    "!ls -hart {exp_root}/tmp/ASLOGS"
   ]
  },
  {
   "cell_type": "code",
   "execution_count": 53,
   "id": "2830d792-925f-44f0-b7ab-b5d6046fde49",
   "metadata": {},
   "outputs": [
    {
     "name": "stdout",
     "output_type": "stream",
     "text": [
      "a001_SIM.20240912112006.out  a001_SIM.20240912112006.err  ..  .\n"
     ]
    }
   ],
   "source": [
    "#template logs are downloaded from the remote platform and stored inside\n",
    "!ls -hart {exp_root}/tmp/LOG_{expid}"
   ]
  },
  {
   "cell_type": "code",
   "execution_count": 55,
   "id": "6886bf0a-fa0b-47c9-b8f9-fd00bd963f18",
   "metadata": {},
   "outputs": [
    {
     "name": "stdout",
     "output_type": "stream",
     "text": [
      "Set INTEL compilers as MPI wrappers backend\n",
      "load impi/2021.10.0 (PATH, MANPATH, LD_LIBRARY_PATH)\n",
      "load mkl/2023.2.0 (LD_LIBRARY_PATH)\n",
      "load UCX/1.15.0 (PATH, LD_LIBRARY_PATH, LIBRARY_PATH, C_INCLUDE_PATH,\n",
      "CPLUS_INCLUDE_PATH) \n",
      "load bsc/1.0 (PATH, MANPATH)\n",
      "total 1\n",
      "drwxr-sr-x 2 delt550999 ehpc69 4096 Sep 12 17:20 LOG_a001\n"
     ]
    }
   ],
   "source": [
    "# Workflow ran inside\n",
    "cmd = f\"{user}@{host} ls -l {scratch_dir}/{project}/{user}/{expid}\"\n",
    "!ssh -o StrictHostKeyChecking=accept-new {cmd} "
   ]
  },
  {
   "cell_type": "code",
   "execution_count": null,
   "id": "8fb7d4c7-b8e6-41f6-98a7-e84ae0bfc2de",
   "metadata": {},
   "outputs": [],
   "source": [
    "# TODO: we need to export this for now due to an issue in the service configuration\n",
    "import os\n",
    "%env MC_HOST_s3=https://{os.environ[\"AWS_ACCESS_KEY_ID\"]}:{os.environ[\"AWS_SECRET_ACCESS_KEY\"]}:{os.environ[\"AWS_SESSION_TOKEN\"]}@{os.environ[\"AWS_S3_ENDPOINT\"]}\n",
    "# Persist the work\n",
    "# If you are launching from your own project, use this\n",
    "!mc cp --recursive /home/onyxia/autosubmit s3/oidc-{edito_user}\n",
    "# If you are launching from project-modellab project, use this\n",
    "# !mc cp --recursive /home/onyxia/autosubmit s3/project-modellab/{edito_user}"
   ]
  },
  {
   "cell_type": "code",
   "execution_count": null,
   "id": "20c07797-e7c2-45ae-a157-b0b2ac3b03e7",
   "metadata": {},
   "outputs": [],
   "source": []
  }
 ],
 "metadata": {
  "kernelspec": {
   "display_name": "Python 3 (ipykernel)",
   "language": "python",
   "name": "python3"
  },
  "language_info": {
   "codemirror_mode": {
    "name": "ipython",
    "version": 3
   },
   "file_extension": ".py",
   "mimetype": "text/x-python",
   "name": "python",
   "nbconvert_exporter": "python",
   "pygments_lexer": "ipython3",
   "version": "3.10.12"
  }
 },
 "nbformat": 4,
 "nbformat_minor": 5
}
