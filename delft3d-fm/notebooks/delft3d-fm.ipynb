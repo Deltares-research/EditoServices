{
 "cells": [
  {
   "cell_type": "markdown",
   "id": "0822d911-b9bd-4479-b3a1-7b82fa34db71",
   "metadata": {},
   "source": [
    "# User Data and Repository"
   ]
  },
  {
   "cell_type": "code",
   "id": "45f97884-7de7-44f1-8c4d-8b19945612ca",
   "metadata": {},
   "source": [
    "user = \"delt550999\"\n",
    "# Where are the configuration files relative to git repo path\n",
    "conf_path = \"delft3d-fm/autosubmit/conf/\"\n",
    "# Main platform of the experiment\n",
    "hpcarch = \"marenostrum5\"\n",
    "# A description of this experiment\n",
    "exp_description = \"Delft3D-FM\"\n",
    "project = \"ehpc69\"\n",
    "host = \"glogin1.bsc.es\"\n",
    "queue = \"gp_ehpc\""
   ],
   "outputs": [],
   "execution_count": null
  },
  {
   "cell_type": "markdown",
   "id": "e9961ea8-b41a-4a27-bdbd-78cf3c689e8d",
   "metadata": {},
   "source": [
    "#### Settings to use a different user or repository."
   ]
  },
  {
   "cell_type": "code",
   "id": "de653b20-e971-41a5-9ddd-4441eb38074b",
   "metadata": {},
   "source": [
    "!ssh-copy-id f\"{user}@{host}\""
   ],
   "outputs": [],
   "execution_count": null
  },
  {
   "cell_type": "code",
   "id": "94f1dfb7-53c9-4036-bfca-ae6cdfa8326e",
   "metadata": {},
   "source": [
    "!ssh f\"{user}@{host}\""
   ],
   "outputs": [],
   "execution_count": null
  },
  {
   "cell_type": "code",
   "id": "0f32698f-d482-4fee-935e-45f9295642fa",
   "metadata": {},
   "source": [
    "#BSC connection checker\n",
    "scratch_dir = \"/gpfs/scratch\"\n",
    "cmd = f\"{user}@{host} echo Connected\"\n",
    "!ssh -o StrictHostKeyChecking=accept-new {cmd} "
   ],
   "outputs": [],
   "execution_count": null
  },
  {
   "cell_type": "markdown",
   "id": "194cf515-3e4c-4b5b-9250-b6433677f960",
   "metadata": {},
   "source": [
    "# Clone Test Case"
   ]
  },
  {
   "cell_type": "code",
   "id": "6569556c-9213-47a3-bdaf-6f4e123b406d",
   "metadata": {},
   "source": [
    "# Repo\n",
    "repo = \"https://github.com/Deltares-research/EditoServices\"\n",
    "# Branch \n",
    "branch = \"dflowfm-singularity\" \n",
    "! git clone --branch $branch $repo"
   ],
   "outputs": [],
   "execution_count": null
  },
  {
   "cell_type": "markdown",
   "id": "a7fff249-0cd3-4697-8e09-8086900fe7ec",
   "metadata": {},
   "source": [
    "## Copy Test Case to cluster "
   ]
  },
  {
   "cell_type": "code",
   "id": "9e4a7b50-1257-4ba3-8483-3717f23600da",
   "metadata": {},
   "source": [
    "!scp -r EditoServices/delft3d-fm/test-case $user@$host:from-edito/"
   ],
   "outputs": [],
   "execution_count": null
  },
  {
   "cell_type": "code",
   "id": "0d2995f3-bc84-43ed-87af-cc80baf34e0d",
   "metadata": {},
   "source": [
    "%%capture output --no-stderr\n",
    "!autosubmit expid -min -repo {repo} -H {hpcarch} -b {branch} -conf {conf_path} -d \"{exp_description}\"\n",
    "# -min: \n",
    "  # Generates a minimal configuration file that replaces the one shown in previous examples\n",
    "  # Mainly used to load versioned configuration files, and the to-go configuration in AS 4+\n",
    "# -b: Specifies the git branch\n",
    "# -conf : Specifies the path to the versioned configuration files. The root folder is the git repository root."
   ],
   "outputs": [],
   "execution_count": null
  },
  {
   "cell_type": "code",
   "id": "f726e15f-153d-4ec3-af3f-d994564ec29f",
   "metadata": {},
   "source": [
    "# Show expid output\n",
    "output.show()\n",
    "#Get Expid directly from this output for the other commands\n",
    "expid_command_output = output.stdout\n",
    "expid = expid_command_output.split(\"\\r\\n\")[-2].split(\" \")[1]\n",
    "#If you want to use another expid, comment the previous lines and uncomment this one\n",
    "expid = \"a001\"\n",
    "%store expid"
   ],
   "outputs": [],
   "execution_count": null
  },
  {
   "cell_type": "code",
   "id": "a9050449-4eb0-493e-8155-f61abee4c56d",
   "metadata": {},
   "source": [
    "# FileStructure\n",
    "!ls /home/onyxia/autosubmit/{expid}\n",
    "# Mount it in the file explorer\n",
    "!ln -s /home/onyxia/autosubmit/{expid} . 2> /dev/null # in case folder is already mounted\n",
    "# The exp_root in this example is the expid folder.\n",
    "# We have the expid in our current_directory as a symbolic link\n",
    "exp_root = expid\n",
    "%store exp_root"
   ],
   "outputs": [],
   "execution_count": null
  },
  {
   "cell_type": "code",
   "id": "6e290676-5b3d-4c53-8faf-2dd1883ad238",
   "metadata": {},
   "source": [
    "! echo $expid"
   ],
   "outputs": [],
   "execution_count": null
  },
  {
   "cell_type": "code",
   "id": "567dc42c-0622-40ac-87a1-f325e7b81075",
   "metadata": {},
   "source": [
    "# This command downloads the git_repo and, by default, puts it inside the folder {exp_root}/proj/git_project\n",
    "!autosubmit refresh {expid} -v"
   ],
   "outputs": [],
   "execution_count": null
  },
  {
   "cell_type": "code",
   "id": "bfe5d70b-b6bf-44d8-872a-11efd6bb21bf",
   "metadata": {},
   "source": [
    "# Autosubmit refresh uses the content inside this file, to know where are the rest of the config files\n",
    "!cat {expid}/conf/minimal.yml"
   ],
   "outputs": [],
   "execution_count": null
  },
  {
   "cell_type": "code",
   "id": "4e1b4600-7372-4592-85a0-b503bc291897",
   "metadata": {},
   "source": [
    "!ls /home/onyxia/autosubmit/$expid"
   ],
   "outputs": [],
   "execution_count": null
  },
  {
   "cell_type": "code",
   "id": "adcc0ad2-c95d-483a-a169-eb0fea85062d",
   "metadata": {},
   "source": [
    "# We can find the rest of the config in the DEFAULT.CUSTOM_CONFIG path\n",
    "# %PROJDIR% is an AS_placeholder that points to {exp_root}/%PROJECT.PROJECT_DESTINATION%\n",
    "!ls {exp_root}/proj/git_project/{conf_path}"
   ],
   "outputs": [],
   "execution_count": null
  },
  {
   "cell_type": "code",
   "id": "6eef4a5e-ad4c-4b78-8a43-33fdf683ca61",
   "metadata": {},
   "source": [
    "#In this repo, we can find the templates under %PROJDIR%/templates\n",
    "!ls {exp_root}/proj/git_project/templates"
   ],
   "outputs": [],
   "execution_count": null
  },
  {
   "cell_type": "code",
   "id": "49efa78f-7ecd-42a7-962f-488e4493d471",
   "metadata": {},
   "source": [
    "# This step is slightly different than in the other notebooks.\n",
    "# In this expid, the platform.yml is already there with the definition of the platforms. \n",
    "#!cat {exp_root}/proj/git_project/as_conf/platforms.yml\n",
    "# We will overwrite only what we want to change from that file.\n",
    "# This means that instead of filling the whole platforms.yml we will fill only the necessary.\n",
    "platforms_file = f\"\"\"PLATFORMS:\n",
    "  MARENOSTRUM5:\n",
    "    TYPE: slurm\n",
    "    HOST: {host}\n",
    "    PROJECT: {project}\n",
    "    USER: {user}\n",
    "    QUEUE: {queue}\n",
    "    SCRATCH_DIR: /gpfs/scratch\n",
    "    ADD_PROJECT_TO_HOST: False\n",
    "    MAX_WALLCLOCK: '48:00'\n",
    "\"\"\"\n",
    "# And store it in our home directory.\n",
    "import os \n",
    "with open(f\"{os.environ['HOME']}/platforms.yml\", \"w\") as fd:\n",
    "    fd.write(platforms_file)\n",
    "\n",
    "# For Autosubmit to acknowledge this file, we must modify the {exp_root}/conf/minimal.yml %DEFAULT.CUSTOM_CONFIG% key and add a POST key. \n",
    "# You can also use the file_explorer\n",
    "minimal=f\"\"\"CONFIG:\n",
    "  # Current version of Autosubmit.\n",
    "  AUTOSUBMIT_VERSION: \"4.1.10\"\n",
    "  # Total number of jobs in the workflow.\n",
    "  TOTALJOBS: 20\n",
    "  # Maximum number of jobs permitted in the waiting status.\n",
    "  MAXWAITINGJOBS: 20\n",
    "DEFAULT:\n",
    "  # Job experiment ID.\n",
    "  EXPID: \"{expid}\"\n",
    "  # Default HPC platform name.\n",
    "  HPCARCH: {hpcarch}\n",
    "  #hint: use %PROJDIR% to point to the project folder (where the project is cloned)\n",
    "  # Custom configuration location.\n",
    "  CUSTOM_CONFIG: \n",
    "   PRE: \"%PROJDIR%/{conf_path}\"\n",
    "   POST: \"~/platforms.yml\"\n",
    "PROJECT:\n",
    "  # Type of the project.\n",
    "  PROJECT_TYPE: git\n",
    "  # Folder to hold the project sources.\n",
    "  PROJECT_DESTINATION: git_project\n",
    "EXPERIMENT:\n",
    "  DATELIST: \"20000101\"\n",
    "  MEMBERS: \"fc0\"\n",
    "  CHUNKSIZEUNIT: month\n",
    "  CHUNKSIZE: \"4\"\n",
    "  NUMCHUNKS: \"2\"\n",
    "  CHUNKINI: ''\n",
    "  CALENDAR: standard\n",
    "GIT:\n",
    "  PROJECT_ORIGIN: \"{repo}\"\n",
    "  PROJECT_BRANCH: \"{branch}\"\n",
    "  PROJECT_COMMIT: ''\n",
    "  PROJECT_SUBMODULES: ''\n",
    "  FETCH_SINGLE_BRANCH: true\n",
    "\"\"\"\n",
    "# And store it in the conf path\n",
    "with open(f\"{expid}/conf/minimal.yml\", \"w\") as fd:\n",
    "    fd.write(minimal)"
   ],
   "outputs": [],
   "execution_count": null
  },
  {
   "cell_type": "code",
   "id": "f5cbde5e-88cd-4aff-86f0-93754e7cd5d3",
   "metadata": {},
   "source": [
    "%%capture output --no-stderr\n",
    "!autosubmit create {expid} -v"
   ],
   "outputs": [],
   "execution_count": null
  },
  {
   "cell_type": "code",
   "id": "5213a410-1c1e-403f-9966-4657c574e3b7",
   "metadata": {},
   "source": [
    "# Capture the file_path to the plot\n",
    "create_command_output = output.stdout\n",
    "parsed_by_lines = create_command_output.split(\"\\r\\n\")\n",
    "for line in parsed_by_lines:\n",
    "    if \"Plot created\".casefold() in line.casefold():\n",
    "        filepath = line.split(\" \")[-1].split(\".\")[0] +\".pdf\"\n",
    "print(filepath) \n",
    "# Then plot it using Jupyter Python.\n",
    "from IPython.display import IFrame\n",
    "from pathlib import Path\n",
    "IFrame(f\"{expid}/plot/{Path(filepath).name}\", width=600, height=300)"
   ],
   "outputs": [],
   "execution_count": null
  },
  {
   "cell_type": "code",
   "id": "8bbf4ae9-d46e-4cd7-8e3a-8ba5fbfdb0e0",
   "metadata": {},
   "source": [
    "!autosubmit run {expid} "
   ],
   "outputs": [],
   "execution_count": null
  },
  {
   "cell_type": "markdown",
   "id": "5296c737-0091-4365-a36a-3882fa457bfe",
   "metadata": {},
   "source": [
    "> NOTE: In the next sessions you will learn to use the Autosubmit GUI to monitor your experiments. Here we will use the Autosubmit command-line interface for that."
   ]
  },
  {
   "cell_type": "code",
   "id": "03f56d72-a0b8-4cc3-b60e-0bcb690eb155",
   "metadata": {},
   "source": [
    "%%capture monitor_output --no-stderr\n",
    "!autosubmit monitor {expid}"
   ],
   "outputs": [],
   "execution_count": null
  },
  {
   "cell_type": "markdown",
   "id": "a97a4789-1cc1-4315-bf21-736afdf23b8a",
   "metadata": {},
   "source": [
    "# Copy Whole model Back from Cluster (with results)"
   ]
  },
  {
   "cell_type": "code",
   "id": "2fb7a2c6-4794-4dab-98b0-1447723cff78",
   "metadata": {},
   "source": [
    "!scp -r $user@$host:from-edito/dflowfm/ results/"
   ],
   "outputs": [],
   "execution_count": null
  },
  {
   "cell_type": "code",
   "id": "09e4ed93-4044-4881-9e9d-944b73687586",
   "metadata": {},
   "source": [
    "# Capture the file_path to the plot\n",
    "monitor_command_output = monitor_output.stdout\n",
    "parsed_by_lines = monitor_command_output.split(\"\\r\\n\")\n",
    "for line in parsed_by_lines:\n",
    "    if \"Plot created\".casefold() in line.casefold():\n",
    "        filepath = line.split(\" \")[-1].split(\".\")[0] +\".pdf\"\n",
    "print(filepath) \n",
    "# Then plot it using Jupyter Python.\n",
    "from IPython.display import IFrame\n",
    "from pathlib import Path\n",
    "IFrame(f\"{expid}/plot/{Path(filepath).name}\", width=600, height=300)"
   ],
   "outputs": [],
   "execution_count": null
  },
  {
   "cell_type": "code",
   "id": "fb9d4cc2-6c92-49d4-af59-bff8230d3227",
   "metadata": {},
   "source": [
    "#Aslogs are located inside\n",
    "!ls -hart {exp_root}/tmp/ASLOGS"
   ],
   "outputs": [],
   "execution_count": null
  },
  {
   "cell_type": "code",
   "id": "2830d792-925f-44f0-b7ab-b5d6046fde49",
   "metadata": {},
   "source": [
    "#template logs are downloaded from the remote platform and stored inside\n",
    "!ls -hart {exp_root}/tmp/LOG_{expid}"
   ],
   "outputs": [],
   "execution_count": null
  },
  {
   "cell_type": "code",
   "id": "6886bf0a-fa0b-47c9-b8f9-fd00bd963f18",
   "metadata": {},
   "source": [
    "# Workflow ran inside\n",
    "cmd = f\"{user}@{host} ls -l {scratch_dir}/{project}/{user}/{expid}\"\n",
    "!ssh -o StrictHostKeyChecking=accept-new {cmd} "
   ],
   "outputs": [],
   "execution_count": null
  },
  {
   "cell_type": "code",
   "id": "8fb7d4c7-b8e6-41f6-98a7-e84ae0bfc2de",
   "metadata": {},
   "source": [
    "# TODO: we need to export this for now due to an issue in the service configuration\n",
    "import os\n",
    "%env MC_HOST_s3=https://{os.environ[\"AWS_ACCESS_KEY_ID\"]}:{os.environ[\"AWS_SECRET_ACCESS_KEY\"]}:{os.environ[\"AWS_SESSION_TOKEN\"]}@{os.environ[\"AWS_S3_ENDPOINT\"]}\n",
    "# Persist the work\n",
    "# If you are launching from your own project, use this\n",
    "!mc cp --recursive /home/onyxia/autosubmit s3/oidc-{edito_user}\n",
    "# If you are launching from project-modellab project, use this\n",
    "# !mc cp --recursive /home/onyxia/autosubmit s3/project-modellab/{edito_user}"
   ],
   "outputs": [],
   "execution_count": null
  },
  {
   "cell_type": "code",
   "id": "20c07797-e7c2-45ae-a157-b0b2ac3b03e7",
   "metadata": {},
   "source": [],
   "outputs": [],
   "execution_count": null
  }
 ],
 "metadata": {
  "kernelspec": {
   "display_name": "Python 3 (ipykernel)",
   "language": "python",
   "name": "python3"
  },
  "language_info": {
   "codemirror_mode": {
    "name": "ipython",
    "version": 3
   },
   "file_extension": ".py",
   "mimetype": "text/x-python",
   "name": "python",
   "nbconvert_exporter": "python",
   "pygments_lexer": "ipython3",
   "version": "3.10.12"
  }
 },
 "nbformat": 4,
 "nbformat_minor": 5
}
